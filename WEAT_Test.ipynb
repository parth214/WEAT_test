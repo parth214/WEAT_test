{
  "nbformat": 4,
  "nbformat_minor": 0,
  "metadata": {
    "colab": {
      "name": "Copy of WEATallcombinations.ipynb",
      "provenance": [],
      "collapsed_sections": [],
      "toc_visible": true,
      "machine_shape": "hm",
      "mount_file_id": "1I5hLVrui3H6PyF5IBioFGqATend6SGns",
      "authorship_tag": "ABX9TyMRqHMRQ8SH7LhUjjCJy+uU"
    },
    "kernelspec": {
      "display_name": "Python 3",
      "name": "python3"
    },
    "language_info": {
      "name": "python"
    }
  },
  "cells": [
    {
      "cell_type": "code",
      "metadata": {
        "id": "yxArruoKfZse"
      },
      "source": [
        "import numpy as np\n",
        "from sklearn.metrics.pairwise import cosine_similarity\n",
        "from itertools import combinations, filterfalse\n",
        "from gensim.models.keyedvectors import KeyedVectors\n",
        "import random\n",
        "import sys\n",
        "import os\n",
        "import pickle\n",
        "from gensim.test.utils import get_tmpfile\n",
        "from gensim.models import KeyedVectors\n",
        "from gensim.scripts.glove2word2vec import glove2word2vec\n",
        "import scipy.stats\n",
        "import re"
      ],
      "execution_count": null,
      "outputs": []
    },
    {
      "cell_type": "code",
      "metadata": {
        "id": "HFO2MQte3dmv"
      },
      "source": [
        ""
      ],
      "execution_count": null,
      "outputs": []
    },
    {
      "cell_type": "markdown",
      "metadata": {
        "id": "i4OGaKBSDyWG"
      },
      "source": [
        "\n",
        "\n"
      ]
    },
    {
      "cell_type": "code",
      "metadata": {
        "id": "GLz-5gecDDFR"
      },
      "source": [
        "X = [\"woman\",\"mother\"] \n",
        "Y = [\"man\",\"father\"] \n",
        "A = [\"health\",\"happy\"]\n",
        "B = [\"pollute\",\"tragedy\" ] "
      ],
      "execution_count": null,
      "outputs": []
    },
    {
      "cell_type": "code",
      "metadata": {
        "colab": {
          "base_uri": "https://localhost:8080/"
        },
        "id": "pigwuEJcjv4g",
        "outputId": "c0510fcd-b5a0-46a5-bd9e-cab59129969a"
      },
      "source": [
        "B=np.matrix([[1, 2], [3, 4],[5,6]])\n",
        "B\n",
        "combi=list(combinations(B,2))\n",
        "print(combi)\n",
        "print(len(B))"
      ],
      "execution_count": null,
      "outputs": [
        {
          "output_type": "stream",
          "text": [
            "[(matrix([[1, 2]]), matrix([[3, 4]])), (matrix([[1, 2]]), matrix([[5, 6]])), (matrix([[3, 4]]), matrix([[5, 6]]))]\n",
            "3\n"
          ],
          "name": "stdout"
        }
      ]
    },
    {
      "cell_type": "markdown",
      "metadata": {
        "id": "BcKOKGTFEKvX"
      },
      "source": [
        "# Downloading the glove pretrained word vectors \n",
        "Common crawl (840B tokens, 2.2M Vocab, cased, 300d vectors)\n",
        "\n",
        "Ref: https://nlp.stanford.edu/projects/glove/"
      ]
    },
    {
      "cell_type": "code",
      "metadata": {
        "colab": {
          "base_uri": "https://localhost:8080/"
        },
        "id": "qHKvIJagnyXd",
        "outputId": "79fbc2a2-8b59-4db4-ec23-1d870072672b"
      },
      "source": [
        "!if [ ! -f /glove.840B.300d.txt ]; then gdown https://drive.google.com/uc?id=1J2Fk2FjFQGO3SA9aoG37fy85TRv664Br; fi"
      ],
      "execution_count": null,
      "outputs": [
        {
          "output_type": "stream",
          "text": [
            "Downloading...\n",
            "From: https://drive.google.com/uc?id=1J2Fk2FjFQGO3SA9aoG37fy85TRv664Br\n",
            "To: /content/glove.840B.300d.txt\n",
            "5.65GB [00:39, 143MB/s]\n"
          ],
          "name": "stdout"
        }
      ]
    },
    {
      "cell_type": "markdown",
      "metadata": {
        "id": "9snsi473qHJ5"
      },
      "source": [
        ""
      ]
    },
    {
      "cell_type": "markdown",
      "metadata": {
        "id": "XNyOMm5jFJRI"
      },
      "source": [
        "## Converting the glove vectors in word2vec format"
      ]
    },
    {
      "cell_type": "code",
      "metadata": {
        "colab": {
          "base_uri": "https://localhost:8080/"
        },
        "id": "3_oPVx5wtz3T",
        "outputId": "51aa4432-175e-494c-ca57-b907a7a55f45"
      },
      "source": [
        "tmp_file = get_tmpfile('temp_word2vec.txt')\n",
        "\n",
        "# GloVe vectors loading function into temporary file\n",
        "glove2word2vec('glove.840B.300d.txt', tmp_file)"
      ],
      "execution_count": null,
      "outputs": [
        {
          "output_type": "execute_result",
          "data": {
            "text/plain": [
              "(2196017, 300)"
            ]
          },
          "metadata": {
            "tags": []
          },
          "execution_count": 5
        }
      ]
    },
    {
      "cell_type": "markdown",
      "metadata": {
        "id": "tYaeHNGgFVcw"
      },
      "source": [
        "## Loading the embeddings"
      ]
    },
    {
      "cell_type": "code",
      "metadata": {
        "id": "r4Pz0zF2ydId"
      },
      "source": [
        "glove = KeyedVectors.load_word2vec_format(tmp_file)\n"
      ],
      "execution_count": null,
      "outputs": []
    },
    {
      "cell_type": "markdown",
      "metadata": {
        "id": "AjGQB014FoeV"
      },
      "source": [
        "### Function for getting glove embeddings of a word w in np.array format"
      ]
    },
    {
      "cell_type": "code",
      "metadata": {
        "id": "DyBRPAC1iWCH"
      },
      "source": [
        "def get_glove_emb(X):\n",
        "  return np.array([glove[w] for w in X])"
      ],
      "execution_count": null,
      "outputs": []
    },
    {
      "cell_type": "code",
      "metadata": {
        "id": "zL7UpqWhKX4r"
      },
      "source": [
        "# Instruments\n",
        "X = [\"woman\",\"mother\"] \n",
        "# Weapons\n",
        "Y = [\"man\",\"father\"] \n",
        "# Pleasant\n",
        "A = [\"health\",\"happy\"]\n",
        "# Unpleasant\n",
        "B = [\"pollute\",\"tragedy\" ] "
      ],
      "execution_count": null,
      "outputs": []
    },
    {
      "cell_type": "code",
      "metadata": {
        "colab": {
          "base_uri": "https://localhost:8080/"
        },
        "id": "_PDKVgds0DaP",
        "outputId": "2eb81ff6-cb47-4209-9d47-5447609ddfed"
      },
      "source": [
        "Xmat=get_glove_emb(X)\n",
        "Ymat=get_glove_emb(Y)\n",
        "Amat=get_glove_emb(A)\n",
        "Bmat=get_glove_emb(B)\n",
        "Xmat.shape"
      ],
      "execution_count": null,
      "outputs": [
        {
          "output_type": "execute_result",
          "data": {
            "text/plain": [
              "(2, 300)"
            ]
          },
          "metadata": {
            "tags": []
          },
          "execution_count": 10
        }
      ]
    },
    {
      "cell_type": "markdown",
      "metadata": {
        "id": "Z_LCjaNvwVc4"
      },
      "source": [
        "# "
      ]
    },
    {
      "cell_type": "markdown",
      "metadata": {
        "id": "w64mceXoGIvF"
      },
      "source": [
        "### Test statistic\n",
        "\n",
        "![WhatsApp Image 2021-03-30 at 1.23.55 PM.jpeg](data:image/jpeg;base64,/9j/4AAQSkZJRgABAQAAAQABAAD/2wCEAAYGBgYHBgcICAcKCwoLCg8ODAwODxYQERAREBYiFRkVFRkVIh4kHhweJB42KiYmKjY+NDI0PkxERExfWl98fKcBBgYGBgcGBwgIBwoLCgsKDw4MDA4PFhAREBEQFiIVGRUVGRUiHiQeHB4kHjYqJiYqNj40MjQ+TERETF9aX3x8p//CABEIAKgCNQMBIgACEQEDEQH/xAAtAAEAAwEBAQAAAAAAAAAAAAAAAQMEAgUGAQEBAAAAAAAAAAAAAAAAAAAAAf/aAAwDAQACEAMQAAAC+qAAM8aGOyzQzQupl4Tao4l1MvVaHOaNbJclrL2Xs3BsZbrbGK8uZLIvUzVrHelqjhdTMNLLCa1MLezVG5xRJqZhpZ1uhn5jUz91arpNTHriWXqtDNQegzdJey9re56AAAAFF6TzdOlWFuiXznoyZ8vpDFzvGejeMd1yzPXsS+e9BZRdKXFOsmWvcMvG2TBZrVht0SYa/RR4+zaM1W4uDj0oTPR6EFGb0B5fXpCjN6MGGzUWjH6gwa7Bk70DPRvV5uu9Jhnaqq0UAAAefG6fF2JuqxWmx4dx6F/kQvrz4voJqeVB6c+X0elzxhPUnyrzdz5/J6HWK851edcX2eJcepPi3m/rz6D2WKtfR58zlPXeNtL2Kk9h4+w2PEsPSeZqN0eR2eq8vlfWjx9iabPC9I1vLL6c+R1Xq00RG55nKejVjvN7nq0AAAAAiQAAAAiQABEiEiJAAAAAAAABVaAAAAAAAAAAAAAAAHHY8LVsiSlq4rHou6XDR6MRmr9DhOsHo8lwtAAAAAAAAAAAAAAAAAAAAAAAAAAAAAAAAAAAAAAAAAAAAAAAAAAAAAAAAAAAAAAAAAAAAAHBPGO6S+KeTTPOc2Vc5jXbi01bltiE0axHn3rq4jGnoVTgPQ7yaDvLoxrdoilLesldb+IyS7a6oTX1nF0edmPceVZXpBQAAAAAAAAAAAAAAAOZkQkQkQkc9Azac0U3JsvjosJESHHUiMevDEb82qyOLSwkIkRIAAAAAAAAAAAAAAAAAAAAESACCUSAAAACCSCUSAAAACCUVxa56oAAAAAAAAAAAAAAAABg31RTZPVkZ9fEuenfwlld63DXu4jJ1ok7im1KatPZjsu6rnNt5l56mysubfzJmo3FdV9JXTq7tx23pKqdklWiuy0AAAAAAAAAAAAAAAAAAAAAAAAAAAAAAAAAAAAAAAAAAAAD/8QAAv/aAAwDAQACAAMAAAAhAAGBIFKAGHPLIIKANAMJAEDDACEAKMMJMAAAAATxkqiCCRCxCPP7xYRzyn3ffH+SgQgjRAAAAG/H/wDH+5lb8z99c/cJ9gzcua+CX8NMuUwAAAAACAAAACAAEMAAAAAAAAAEAAAAAAAAAAAAAAAAC3QINkwAAAAAAAAAAAAAAAAAAAAAAAAAAAAAAAAAAAAAAAAAAAAAAAAAAAAAAAAAAAAAAAAAAAAABDz7d8FwrI526m0Ju44tAAAAAAAAAAAAAAAAAMMMMAAsMMAMPPEMAAAAAAAAAAAAAAAAAAAAAACABCAAAABBCAAAABCiAAAAAAAAAAAAAAAAAFGMD0MBo+6NAKUt/M66AAAAAAAAAAAAAAAAAAAAAAAAAAAAAAAAAAAAAAAAAAAAAP/EAAL/2gAMAwEAAgADAAAAEPPNOPMfPMvd9+MNNMeMPOMPcsNvNOONNdNPPPPKeJjuEMGCONHnXxOb1oLjTv57iJkpIYHPPPBDjZAiiYy0GhSg6txmTwuh81ji6ToFCylPPPLCBDDCAADDHDDDDDDDDDDHHDDDDDDDDDPPPPPODTXEr/nPPPPPPPPPPPPPPPPPPPPPPPPPPPPPPPPPPPPPPPPPPPPPPPPPPPPPPPPPPPPPPPPPPPPPLJuixvQSysTcpAFcNiXzdPPPPPPPPPPPPPPPPLHHHDBEZHLPKjXDDHDDPPPPPPPPPPPPPPPPPONMMPPPPPMMJHPPPMPvPPPPPPPPPPPPPPPPPFsehZIvOcfZjN5KsIQtPPPPPPPPPPPPPPPPPPPPPPPPPPPPPPPPPPPPPPPPPPPPPP/EADARAAECBQEFBgYDAAAAAAAAAAABEQIQEiHwQiIyQVJhIDFQgqLRMEBRYGLhcoGR/9oACAECAQE/AJRRNC/YeT8CJWhqFsJeb/AiWkW0TSS83+FEj2k6PmcCHZ7hhjU8mKohi4wt96dOznLSOMdBdreFvE4lqBNkQbsNs09pVYbgPxzh7iLnmpE3XzdQW1ZGtMLmqLPqc+fUz0kNxd1xZcRFz/faT8RSHezmpNMC/wACHaEvR5DS8qs81Im1DPkKs81J3Z+XhaQzaOnOX3E3s6mr7IitcW0TCrTCR2ilEd0oomFF3jVPUairZc6fML4g/wAtuyu+df0Z6vYi6C/icZ3z+v2K2ekWWmk1P4f/AP/EADARAAECBAMFBQkAAAAAAAAAAAEAEQIQICEyQvASIjFBYVBRUmCiMHKSobHC0eHi/9oACAEDAQE/AJAPZAveT0C9k6el5vMXQLwv7DpXwTSN6Gk0mTxIbuFNLX3JpMhZM0LI321xq4ROmqda+qJZc0MiF4mQL7Gu5eCToYmQUVolldHXy/MukicesszYxj31maWvSjaKjXp2uzP7XKWbXiR18QWXyQEMKGK6F4ZCY7kEMNL7qbl5fNAQ60c9df0h1Q2pc0263Z//xABBEAABAwIEAwYEAgcHBAMAAAABAgMRABIEEyExIkFREBQyYYGRI0JScTOhICRQU2LR8DA0QENgsfFwcoLhkqLB/9oACAEBAAE/Av8ARmJcU2w6tO6UE+1d6aTAcVxQmdD81Yh7Jau8wPehiEDRa9ZiY0rvbH1HePCd6Ti2FRCuR3BG29OYrQWH/MQkg/xGnXkt2TPEqKOLYTMr2BO3Sji2E7qI0nwnau8smYVqCBt1oGQD1rPIfdSqLQlJHrQxTSloSmTddy+nrTl9irPFGk0w6p5CHAeGPzpx5tvxHlPtXeWb7J1ut2O+9DEziG0J8KkKMx0p11TbrO2WqQfvSb9SfQUjFjMcQsx8S1OnlNIfbWq1KtYn0pWLaQp1KpFgTJjrWe2Z12VadOe9JebWYB1iduVZzclN22/lzo4xkcyTckRH1Ul1KjA/qKW+0gkKVtv5T1pp5Tjrg5IVbtQxLZKxrwrt23rvTJthfiEjQ7UMUyZ4uQOx57UMU0pxCBJuu5fTS320KhR1gnbpXeGtOLcCNOtd7Y4eLeeR5UcWnOQJ4MtSiqOlJUCKOKa68iRpvHSmHFLaDijuJ2iKGJZM8W0aR1rvLJgXfVyPy713lnh4vEEkafVtWHcU4lRVGi1D2NKxKLLkr5jWDzMUcQ0F2E6wTseVNvNuFQSrUbj70txKIuO9KxeHG6+QOx2NOYiHGkp5uWnTy7GHVLW+k/KoR9iKxLim2VKTvy+5pDii8UzICdT0PSsRjMsPBI4kWbjTiNd5ZgmecbGaL6AwXt023adKOLYAMqIgAnhPzUX2wYkz0g0lSVpCkmQdv7J9susuNzFySJ33peCWsL+KOJCE+H6TPWn2i63aFRxJO07GaVhJzBfwrWFEfb/ik4VQS2MwcLpXt15V3NfB8aCC4fD9f8q7kvi+KNVtq8P0etOtFyyFRasK613E5LrWYIIIBt11607hlOX/ABBqyUbdaODlTlykkKCdLfpppDqISV3AJH3mncIXFrXmRNkabW1kKzGl3jhumE9aWlRI4tOYjemmi2XOIWqVIEbVicMt4EZkAoIiJ3rui5JzB+KF+HoI60zhVtqa+ICG0lI4eRp1orLfFASqYjeOw4WSuVcKnAuPt/xWHYUyAm4EAQOGD60cPLjxJ4XEBJFIwSBMrJubtV5nrTeHKVIUpUlCLRpTuEDi1KuiQQY6ERBruzmWkFaJCkmQmNqQxY6pyfFMgaT505hLi9x8LsXD+VMtFsu8U3Lnbyijh3LllLvicCojyiKawq2ADdda0UxbvzprDrW3btomFWKHh5cVBhWY0u5MpumE6GafYDtmsWn+hScEEoQEr1Qu5J/KPahhIdS5f9d2m91JwSxYM0EIQpA4eR60yzlIKZ0n28qGChLacz8NKgjTrprQZ/V8pR+S2a7q5Yj4ibkKBBs9Naaw61cV1pS47uncKruTkNpzhCA3HD9FMNFsKlUytStuutHBGFAOAXFJOmkgztSsIpRfuc/EEHTZPQUht5CU8aJuEwmNKeaW5ZDkQdREzXcF5ZRnD8FLfh+n1ruqwofEFodzIjrypxJVGot5iN6yFtreWhQ4wNLelOtrXlwoC1U7TNIahxbhVJUAPQU/gy4Xoci8I5T4aVg1FwuBwTfdqmRtFLauZU3O6SPel4QOWXq2QUq86GHILSg5xJSQSRvNMNBlpLY2H+kJA7UuJUogT9+VEgVINKeSkwZ8QTt17J5foKUEpKjsKSoKSFDmKUq1JJ5U24lxCVp2IkfoKUEgk8qU6E7z7TQVKQRzFIcJCHLuBQ6dextxLqLk7a/l2T2LcSgEnkJ9qBkA9f0Aqeu/apxIWE6z5U46hG55ge/6LbiXASnqR7UtxKLbuagB69k/oTTbiXE3J6ke36E8p7VvJRM3eiT25icwN8ymfaipalqQlUEWnb+xdzs+USfI/wC4opWtkEpdulu9JH0q5U3m94O5QZ30ilh4qX4rs4FJ5WVhElKHOEj4qz+dKDy0H4bnhbMGeS9aKFXOcK9cQk6T4Ypba7nRauwOtRvsOlWPoUfxCghy3fSYiofSXFBC5KGfy8VNIBZUJXCp8Wh1plGKvTmA6iFa/u+frVuIsRN94vzPP7VC0oblLhCmT1PH50yHkqa0VbaJBHh4eVLNzCjB1RtGtBbowTbbaF5mUB4SIgedWTlLAdjOBIUNtIp8qzQClZQpJHDyNWv3HxXZwIPKyk5oQb5KQWzcdDE86dzitfii5FsdOdOKUW3gkG4Ax7UUKDL4+WwJbFYi8FkwSi7jjfam0uhAQpLoSb4tGoN1Wu5swv8AvHn4bf50tvErYAhV2QsOeaqTeXoIdAlJRA0joaxSTmk2kywsaDnXxkeFLltjUjX1iilwYReVfdqRdvvXES0tKXMsr4wft0pIxKcvxHi8J+m7TWgl0qbkORmuzvtyprvBDYczfAiCOo3mnbs5EhRbsVt1rDIdDqc2bshIJ86ebVmYjgVxOMkQOQr4qVEQ7lXrGg9qcuS01os6pnmfWKAfLQkOyGHOvinSiol/iUuOAzB08tK+KN0uWFx2YGup0NPoJYaHEYWieun2q11Jg5uUortjUislz9bgKC5QpJ6wKCMXa/prBUj7q5elfEhKwHrSoXgjbTkKdQ5aoJzjDHDvN00+CVYVVpMOa+1WYlIGUlYUc/8A9VhvmV8TWNFcqU3iUoeCbjYeDXcHWuNJQq14tFRuEaifLpSm3UuO2JX4WvuQN/WlIdLo8eUXhA12t1/Omc0Pq3KNYJ5eXnXxcxOivxTPS2Kxpd1sSubNCPvUOZsgL/vHn4bf51h8wvMFSF3BlQWT9WlWrDylAHVyT/2gUkykGOXP/GQKHYUg/wCDyW7yq3X/AFMtIXvRT+o4lcmQt3n/ABV3p0OFmBffAPLwzT7zycEpeiVwPOg+8VkJSClK7Ve1DFOrygCAc0JUkp1Gk1iHyyUacPNXT70l92FSU/iqSNOlHFOLbdVw292C7fvS8StKlp24ZTI30rvJbAUsA/ACppGZxXW+UU1iiGmDaEpVz3A1/bmQzYpFgtO4pWHYVMtjUz6ii2gosKRb0rIZuuyxd1rJa+gUpCFbpmiwyfkG8+td2YiMtMW2+nSspv6RWQz9A8Nvp0pDaGxalIArIZAgIEdP+qhIAk0pxCLbtJMDTmaSsEkdN6LqA4lsniI09KCwSR03pa0oSVKMAbmhSnUJXaZmJ2mkuoVEHfbtxGIDBblJhRi7kPvRU5+7/Om13pm0pPQ8uwKkT2LcQ2m5ZgdinkJVbrMTsaS4lUQeUjz7RiZfWzYbk668x5Ut1aY+CSJ1jl2FQBA69ocQVqSDqmJ9aUoJSSdhQebMQTqJAiJoEEAjsmKSoKSFDYjT9hqMJJpObb8T94jXkfOsQnOStrnG/SmXZYQogp5EedYkSrDx4szf0qUpITT8uIcSNgkg+tMrltud7AaKiXn1SoWpCUwPWkJtZwwthUjTz50u/wCWaRf80082hxtSFjhI1rB5oYAcMwYSeqeU9ilPqbxBO1hj+VOq1QEk7p26UkxCZMxOtYy5xh63kkx96SsHTyFKu/WlgquPCgDy/wDdW2rwqQIgHTyilZny2+tJv+aPSsa1IQ4jR5Cvh+fl2PldnBuTTdxW2VaHLOlNuOXpBJ0vJ94FKWLQR821Ny3iXir90k+01izLBSn54T70kTiZ3CUaE8j5Vhvw/wDzVHvWJStTK7CQrlTRfUpdwWE+MT5/LSC8001bmRkt3bmNdahwrYTmuWm/XUfasIpxUKUpV1vEkjn+wlJChB7IHZA7I17LRcD24ht1doQpIE6yJmj3uD8djT+E/wA6YnLAU5ercn79iUwIqOyOy0XT2rbxOapYcbjlKdh70e9KIT3lsc+FOse9AyKKQSPKktIR4Ry/QO1AAAAftItuFajMCNNaQlxKY/r8qYbLaLOQOn2/sTSGniniUdCNOvvSmlKUyfpmf+jK1lP+WpWnKgZAP7EXiTa9GkAx/MU49lECNAhR9E0hSzMgcqcVA03NYH+7x0Wsf/asQL3sOi0HUqP2Gn/7Q0ZxKxyUTHIW9KUq1M0l24gae9PvuoctRb+Epev8Nd8cBggahu3/AM6cxTzTcqSm4Akj1rvLudEJtzrPPwzV6etKcCUFesUXllxSW7eFKVa+dDFrOWq0WqWpEc9P+KQ+XUgHe8BQiI560t3jUi2YKPzplMJOnzH/AHpa0uKAKdFOFO/086aPE8n6V6e01m/wL9qxDqm0JKY1Wka+Ziu9upIvCYzFoMeQmkvvRJCQFW2+td9eKJCU/huKM/wGKS+kz5RPrSnQE3QdwKOIlaG0+IlW/wDDSsW4lLxhPwrbh1npRxSoxA2UlKiB9udOOZUJt4bFE/YUynjWbY0Tzp1duIKo8KUp/wDmaaPG8nor/cfsTLRaUxoRFZYUOMA6RRbSQNNjNWpm6NayWxEJHimstsm4p1jei0mwIAhPapttRkp5R6Gjh2FCC2nYD2o4Zg6FtO0VkNfSN59etDDBI0PMR6CKypEKPKu7tcEpBKRANZTczYKLSY4RB0PtWWgmSkT/ACqxNyTGwistuQbRNITE9SZPYpCV+ITrNZLX0DefWhhmALQ0mJruzH7tOxHvvRwyJn+v60osyEgnYztXdmSi1SQqDImiy1vYOX5UWm9eHefzrLSocYB0ii2kxpsZ9qsTdMa0hMXdSZP+mv/EACsQAQACAgEDAwMEAwEBAAAAAAERIQAxQVFhcRCBkaGxwSAwUNFg8PFw4f/aAAgBAQABPyH/AAyDKEjphOBIiVGI4eCc1mWPS7xxhAZjYYF0MzC4PpefaJrXbFgtqfVI2dMCcliREC/DlDqjBNv/ADNVZS2to6xhixTfGKnWsEFJASGdYIvDM0JKjeDXC5Fy0j6Y5zVWqUJ0bzbCzpThqhXIt5fGcP20WDZrznN/Eq0mI1lM2wHI06d5PjJXGoSY1MIXRYd8u+E6UMgS6m6x7I6VJVSTvIaZk1OnWDjOd4oH4c5OfpiiVyTvIHQVwYps+M1EhQpOD4xssws0xaG8hg0lCnBLjAVA1C5aGZ98rPeetE184KuaRrMTqsqyrQq4pLnHFbZKqTPTeFniOSZN9TlLlYsvjHxjQmtQO9dRggmahcwp5MkRPuR98gyN5pXbuwCEGbRJ3xQl7JJ6IOcHApaH4LBK1QS1ydJy0RTkUxlUAjmw4JYTZERuzERkrqOhE92dbCAiZgnjxkLJc8Y4WY05thzKCzvU1iwKuDzHxfbyFbUn1IPvgzE5DEuNA6lSRBg0zTQ3AnUTrCkx3WkE4qRBGUKHGSJsURreh1OHfHKOZ/aNR11SEawgQeyNzB4jsvBdR0yS2ky5jpnWOXovOS8u+BkAHJaZ9+rAVM7EPcPqyozIUhX/AHASnr1nUm81i/ubZ8ZJAXX3O/f2wWCcKXG1ZwrBCG8mt3czgdtIEAkdXWsBQHnPdNZG7Irr755bwmFzW7lvLJe/wY/DFdLfRo2z2xNAC1L6lelHlPC5hzOHZPCUjqlnBPWEfSeffJm3YeB84rLhMxCmN/GPy2RheYL65NBWYJnNg5W2aBC1InYVOQWgUpaq3jEtAilIpDd6yHgFVPU6s6ZAaSjBk92OZkJBAqRCZPGDpyBAEdXWstyUsnI0+4xHlmEwWPCUY0I2hyR1dawtjUs9XVesIFsiFwHh2xrwIuEOpcGVJpeCJqMOJ4cBgaJunIfrqIT0nG2UAZwvZfOB4dKInTea2hD5ralyBdm5sEFj5weF4Fp3zvNIqTQFIjeKbhKOus/LBmTcWszmU6vIdBK6UOm8Ae0eB9+OwYWOprkx9VYkFkdeuJRmYNS5685OY2CgSxJvWSfz2NQjWb1QIIC/MQk5t7LDWr8mJbTE9Z5/cr9VelZWV6V6V6Vletetelfqr0rK/brK9KyvSsrK/RX7bYUP/vo5rLTpsMJOASoYIQRinIcmgyhdL9ITa+nn9EgkEvOs1KAnhwptAlgnWIQpkiJHzihEvqhUAlwuTrNP7JyzWwkh+uP2ogYM6OThx1SNRtHPogJWsnGPgVcsbUYZmhJ7/oIyAhFkar1tUUUJgalwce3rtwfpWpQbJFqHeXY6kTenoFUmzZ5/QgS95L1TYItQ7/RCWCTjz6lwOOo34PVOZcNcIN++RG6lWn/n7MJgEBBg3YV5HIatKGwV6vJkEoAxCnJXROmDJDdPBPbU1kxoRCJItN4BMNCTM3kx84Uw78WQnXGMmqW3VOFOBObPI9NMTk2tJgtNHntlwUhoHRyZGoBtwVid1CuBDHdcRGRAandIPZlx0FwUbLScR1yN7xOoNRkZT5gW3TFN1MhN9DcThJX0na8xrzigVN47nbVR1wkwiAoLgeTlM4CgW1MX76yB0KRtZEfOEoSRNyET8uMsZWVgqKOJw1vyWFN9K5yBiXR0l8YxrLnZ1QR1vN8w8EAT0L2OLHGdRtFVkKzAhCaku51WXcwDSLKO3bGKdCJm4nVE5KNL2be0Q68YD/Nrm/bpkVzMc1rLj32YbwAb04jXbEMOgWIrzqcfzqktSbOkYzXmQUkJdY3kWkhLgOeTByJPi+vkcKXU2F8F8zgd1Z4cFuIyO895xRK/0xdNAWy4jucx0zSmh+Z1JWyHIhI2fj6+rGPI9badTe8HeDJ7BrnN6lxFQWffJGly2Fq714wyVBqOJBwYQ8wrZ4i+QrJBJVVMCOr+2Ltu3acGezPAcjvJdDANRG4Fyex0cd+2hMAoPfeU26BUkNVzlvpKSMvtwQbE1iTy5mOMvAyPFMO95fYkMUSf2KysrKysrKysrKysrKysrKysjKysUESR2YAA6ZAcZAKaZMrKysrKysrIysrKysrKysrKys0nJleqdcr0rKysrKysjKysrKysrKysrKyv3T/BRo1kYnplNgwZaERkzPQjTorkSSyGgrDkjiDq7SX1dYww0Rs9XbeUQHMgoqimjvkxWxMpiXziVNnnM5JntkVRyVEjOk5Hjpi4nKFSrHxeKhq79EcmLJojBURjtPX+cNk1eBnJQ1BMdgcTtIjojA0ZRDDpi8cSPuazS1E9nFJfH8qnAe3CP9jLJ/2iPtgBFeiP9jO3UDAA464bn7/+qOkgMMSYVh6BWD+Z6THzkCBSIb5XhfmXwcH6OU4DFJJhi5gB0PGUHSXlG/XshvS8e7Bik+0MY3rGKUeJxYwjGnWGMy0292PRK2GQGp8GbtCU4D09a/ABIJucSblBDB5j0QW1R6zLanpwxAoCWp1kLkSBIHScdCRJHzjiArot9sfWQK6j/B12sE1bWJkvAIZt6tXxgiqKXdNPmcJfGEDTr785KpAqCYFT9MAORRTfHfKq2BNowyyGwRPOMcNoFdkrvGOwZpnMIcavciPzl79SPxgemFLphsLeSW0ufQgGTubvkOk7Y0FtyGB7vwRhif2tnBDJIiGY9MR2mRp5xS1oC0NfKcARxCNB/BjLTV5ZQ7sM92DqdvsmExe8DChInVXbxOsYIqkmYlJxBIQ6XBD/ADgr+nnOHQkhBZVL3xJZNg4HC/GOUGOFEnHVWbOnwpxgVGZixKXHvkw7vToRLxuMLlIxiiCBxXBifu7T0RE7+cb0ddAL3/H8ElCRwKxTf+xlYyDyfnKyFsrFOSa7T6h2MF6eNmLVOXFmKk0EgdqMid4BiYNZCZyshM85WeRiPHrAPhBd976so5NpZFuFUecIEZHWNPKp85VQ0PY4wAIOMQSMgwSjrhsQBAePSsrIyv41iBIQUjdxgs9i4gOYhj6kzeWWp8fs6PjD7MgJ0Blo8uKd61bZIiiI/wAGrK/kRHn1PSdXv9tr1nBkk/bEfSfSFLX+87yE/P8ACJMSco2NCaR3kFmY9gx+OIhDylmKAFSCLjvkjbz26WaVMt0fyxecJx28fKMmPuYytL9JZEjmiuxVecEX1kOLUyk6xretZkPorC18j2hcQFjTHXHoQExF12y9Yh1jemtYQKDNAzvFCKmpUoHrHuY7oC3FuPtecHS9M9HOdS5EPV8iM7QD5D8sYVzZGaUH2X5YKEiAIs0y+2s2+qp3yIFnIU1Io777nGzMJUuycs5EhEMrHORpgSTRy1vLZ5js0SyyYSbI2aB0n2w+GXWhyBISWzxMfXFDL5hdP0xOhOPYfv8AwdYvCkl4xFFbK2P94QQpHkzxRE9sKAQjXLz9cWQNXhjQklh03HrG2s5vuGKEhYRxoe2FixLThztTv8I90Y0LZJGsLDIkiAgvm8Emb0l1l6wq+7tyRAkk76Y76Az3w1FLCuH/AJnFAqMam8jtiR7lehwCACeprLhtHryqcjoQMRyawEQiYUcavfFRSchwawhm6RRjzOQBxYml6dMQinga9nxiwwqXxvkSIkjGx/vCDCkecKynS/GWzH9M+x/jX//EACkQAQEBAQEAAgEDBQACAwEAAAERACExQVFhMHGBECBQkaFA0XCxwfD/2gAIAQEAAT8Q/sM/0+P6zT9B/pNP0pp/5s0/VI9g6qNLEe57PzN/EoIglXMwbTSCNpoqZ1Z2+Ak4vuBOoyJqCXlayYkNZBI4KR9vowS+FIDwYj1HKcN35Baz4mOSBnUXjQSj2Y5VZ1VbPidZ5AzK0UEOJTMOoUUp0cen7OEKLHdWlreYY9SUAGRiVDic6HhePBOcuEwdT8St4Pm9n78sQLDAR1wiE9hARryKqa3FuhqUW4OyyJPq7vfGJkQhnni+d6/PxMIvHZyZ3DYpybwIIEdYgvyZiPUutIS47ewB6I6eevhr7GEDzcZH5M8vG94fFQ+XXeZama4glxLLKoVC4ijxNdRZJj8ASvymeUcPWcqHqJm0GE2qfM7hyzCdILJwFjc+bm7QsUnXhNPE4BDYFlVw1u051RPRdYsAw6bZSqlT0OphttG+WBRQi9EMzGbmHebnTLnkUaun4A4bWyT7WUn8MeuScgqN9785O1wgvvsLU9DTO/g1fOeEx6vwEqxqepAc1Ar2EaxXsM0qYhtzElqIIwce4+PunuD7szSGlpxRhGJ44ZqKCSSMAL4nceCDI6OIGJXhjXhpr9PPiORgAKr8GFWREOoF/OrrmDP0JiT6uSyfVEE/KndfhcyDQJO4085SSMv5Fz41gdeRMhLPMqv+CkuerBNIkUCEh05caBrVB8v0QzFy55Wb0XcD8Nyvh6txhZRB5k+Rz0m78u08CjWjK4Z8DedcHEsCoSuKxjdzAVU6nzjHUgJCIgnpnvjh9XnwfhJl+G/2x9bHZwMQkCPY2hI5Ufu3SKS01+EhMN+rzTTE+5zqPQfauD132IfQBF943HwNRtTFqlPB1z73/DhDB0y6pKCPYP5YV8dJ2ntFNbhftyYDHC2x7pzT9bTCZDwlDpktx+G9gBKBlzpHskUrxNVvKeKj+Ilhc3O4ol7as6bs4LxRxKwpTHmu94vcqzOYQV6ktIJuALgtQqdhG05RlHqIvvBXjSLvIhATLDCYI+NbBRWXS7mlq/ezeIDPAoDZ+Z2Pmrh3IP2A/tmjgvVwSKJSiHUbpayA9/AE3bxFtxdyglyjDVoY9VQfBkGGS7Ej+wuTEHPiIu6FZhnLpbkTtKeJHfN5VC+ogn2OEU9PAR4mavWsCNfCrLktENYvHj4WIZeDbDLjSRFpx4mK/CRaI7amJic1kLAPLT0uc4ymcDY9Uy94DYl8b7aZY/cAvqsT88b5mPgxSXFWbR1W0fWLHIxbiRKHHVAKraVcHSxlS6IaBw1cJdFt8FEwDAPkhRQOcxcPhLYlFUQZ3TI9LUBI9sppgL1Kv6K/0mmP9IaaaZNMmTJpk0yaZMmmmQ0NMmmTQ/py7l0yaZMnNDQ0NDQ0NDQ0NMmTTJk0yZMn9HTJj9C4yEoVYVQ/64dWsoGWlfSijyZWcPVYZRA4DYyx/hxGjccj4iTsXwdfzi8CQX5BUX/Wuuu7sjMVBWAVz3q5+UKbrU9xQVgdcwwZJAozo3GBWFfX6111bSJgpdtyj8pBgREAoFKUiP4cyhPNJSjXmqXdJoVKo+CnTVzAgCqvAxRRo+JocS4PyQ6Mzz0CfgXV11c35Q3atoH4Zx+TV1/OlhNKaER8Ly6DYZQoNcPBX11dXXXW1iAxxQDxMIgFEU8DDh+XVxVLKDU+F11d26kAqHfX6M67zEVRSH0yurrrmgC10Kj/AM11yzMnKfwBhdfNXKdSaosfpaOZ+rQQ3fG+tnTHn97jLS+VjPujNFW14QEw65bgv+gBLO9frOhhqCe6+JfBAV66zOAlPn5jq31YZN18fmBgNtIMN9fiRM/qFzg1XqCdwE396mPn1XlkHF19BXnORWsqvho4AvB6aFMmKATb1Acn3644lL2DJzrIAJ49SEFgO+LWMZ/kFKXTFA60rrghW48uaSjRIrkMSHGUF3OKFwHwopM7e0eeBxjOmM+YvwlXrBUBnRXh4l5E0oPBQRoT56jDjGUP5UFi5e1qVSYelIMuCvAUL1Q+hhtANJnX9kRb4Xqg+SsyFnunEPVxJUTCSd+QpD9DyKYrcLDRClimLNoBFSPYKRgNqRK0Re8ML0wGDLp6R4H0fL3CAjxtrly+OpVxLktYD/8ASDQ5pb4obx0vrxh6mXhrkk78IPw42LVok0fQCXHI4gUq54tMU2S5e0B6uRKDor3Bi9D689DcUYMDB8eMHHUCiDqN0oLOxpUYfYL8VdImpKIO/bQrCuNk+B83x4Uq4LSFkDtXRYunB/fsXEqOkjtzJfkoEO38b+lRvy7PAJqidDsouGYCKezflfW6Pjs8UEbp+XxdByvJNkrtRuRPXAAmHzR59s0/eJU/rx1zKkCh4/1Yg4ClMR0qrEOl0NZlUKQh9SOLWPgHWYR5JPXInq94ITx4aEMjFVvXAkjnJkh3xZ8JXhgIHJuBYnw/Z/fLpk+mmTJk+mmTJkyZMmTJkyZP1pk+mBEJE6JhYMEBV/64sgK1/O6Vew8v3pkyZMmTJk/WmTJkyZMmTJkzixNUyAEeLz33TIaZPppk+mmTI0yZMmTJkyZMmTAn6S6u8f3LMNy64af5vv8AaARasfxgREzgwaxFppJQ7HU89wZDnI9lmSyajI9lFA4eduHh4yKoR6F5CiZaYHddCtSvzB10a8DxgB759gGeaN46Fhqb8hW2k7JB1xwP5AFjw9QulyOdHpKh6Wdvy0wMrfEGm2fipcef5pB9xB8q/VVU+a5BHPdIdHtDXsls/hmkwj0EEL985cFSovKgxX3gzTviylH0H7OealZXb1Kv3IxyEg7HlpeP3ZvSNvSl959+NMWqlR/Jn4C3w8m8vOxx+H/bBP8A5SXG8FVcae98kiyxVyH3BRBQYIj78LmgcL4fBE5c4sAoipYKR/hcz5PkehwglEo5Fmu2kBeXxcGxWx4nB+58mGn9LXK4Qn5nwfBy2GeAl/3zLKS9dERsP3RiaBVAOrrJxqeU+H+d1iQBD9wH/a4XLfjiG0ahOZJCcvfkn84bnKEb4Tn/ADA8cOroE5HVQoesrhpnQ8HzPyv7GuX84kgkJ8S1+4ZtSLig9cO7vK5uAWSX34xlRgeJ4cs5cBR+DA/nL4CiZdcf4C0V8Gn0D5dAJMtxGADSB6BxEn8UECT9BTHJu0mXeWfZnnbWYxf0OS8HYh4t8Xt61w82CxVCc7BxLPlw4Aaeiye5SJNxJFVejAzY0qd01XrXRPzMa+OTmaQ2jwflfhN1Q6xGILwjLLpiD5ACoNxk6br3boKFbEbhCDmHhZVCW+nufQFJSFpnX4NCmISRLkUj54dMgdiheLFKHQEytrrnqQfrL8Y+1V/jfmnzqT+cC8x/9mJu6xSEFBoODOCkEnqF0AaKjhJTqlMWFnCpdbr7j1hy9LtiJAxi83nD5bj+r7viPOw2GTzhAWN+JEuqrWUPBkBQ67/+ZfHfieY96vZLlJ8THDoCuSPJ31CscARKvgOUPuAJdJwp1YFgquqnkc+dFw+jwmPP8BMA8cR0gKsJX5xsNBGflU0xSygg/Xy0z4Xsl/GmJA5p3z5E/Pxg/oftwZHhTjepgRh1j/zMZE/CZOHhHhkBBR4jkiQyuofBfxvgeyX8aYC56AW/GTOl1cb8LYYzhFRUv5OAderFWLmQ4Tb6ZDMKvsyJPXbp4T9kxfCa6r8JVoF4YUEBA/GWKxIxmAACBwx2UhKPT9sWc4HgeNLpkyNP8Yc6Er8pFePnRBesM/KT1+h9yIVTipUWHf0X1V64e/xhaYYPWAQW8ngYOSJwjbiSrqY8/wAzNDQ/RmmT/IFwdAlSj/RZnTLHQJSPgfnHn6TB1AOq4b28w5whQRKJ8/pLMJRHqc/7rgyBG18+IhXEUIGBlI/H+DWZca5oFHzxvDqemuxOr/tDAxJ6F6Ep8OktMmh8x+P/ALzC1vzmAF3DsD8+B4+g6/hzyWH5D23iHxyD/eGLfuXn1M0kHsIXhHHZVbuy594PnTDNmtMIHjCrG5H4lALbCeJqy+gGh+odv4yTq3Uf0FG70m8UOUH4D3mz3m8JbYi9mM+6ofsg0UUUwYiQeumhT6O0oDaQJQb+B5isNLaleXJ49zYBAPgeP97UrjFOH/uRue0gOefJgrEFwOspSXHkf9M14usPES5GzIRwIJ41dmzBCRDtx5FCtBGE/L7nCu1hCIL678OvOUYTLzoA8xRrCIuld6OhFZaZceEat/dDMjjH7JofI+vnXTPfSyPyAcacsyeDp/sv+DRemu+Ij8ZD6O6mq2aIKftFTJOHDWLR/fHhP5v5TIs2a6kiH4X05WA+Vfwv1pE7mglqPy+403EToK8v4GdMo5SXXv7S6Y2C7b71H7rvVGOI6f8Aqi54UdSOMQikxBI9pPoS2c90JubM/lkSCn58M/cT19dzi0JfyPshMkSTo74Dfssuh4Jp0Qpfr6Z/NYgSpPqvX7dTNcBxQf8AATTAMhBYtX7jgTSK/A1fvRS5PAWYBaj6j5iaEokvf2H1M8ZBi9Pmnz5MCKriigI/n33ECB4718+OyG9SAJ8dD9159aCur+VKf5euv21nwFE+oqaFQ4ao1H98eZHDO+p/q6Ws5DywB/AH+El/un98NP7p/fNDef2w/wDE/9k=)\n",
        "\n",
        "\n",
        "\n"
      ]
    },
    {
      "cell_type": "code",
      "metadata": {
        "id": "SSbDRkrO15Uy"
      },
      "source": [
        "def swAB(w,A,B):\n",
        "  return np.mean(cosine_similarity(w,A), axis = 1) - np.mean(cosine_similarity(w,B), axis = 1)\n",
        "\n",
        "  \n",
        "def sXYAB(X, Y, A, B):\n",
        "  return (sum(swAB(X, A, B)) - sum(swAB(Y, A, B)))"
      ],
      "execution_count": null,
      "outputs": []
    },
    {
      "cell_type": "markdown",
      "metadata": {
        "id": "XfbSkC6uIYwV"
      },
      "source": [
        "### Effect size\n",
        "\n",
        "![WhatsApp Image 2021-03-30 at 1.26.56 PM.jpeg](data:image/jpeg;base64,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)"
      ]
    },
    {
      "cell_type": "code",
      "metadata": {
        "id": "M7QRnelm1776"
      },
      "source": [
        "def weat_effect_size(X, Y, A, B):\n",
        "  XunionY = list(set(X).union(Y))\n",
        "  XunionYmat = []\n",
        "  for w in XunionY:\n",
        "    XunionYmat.append(glove[w])\n",
        "  XunionYmat = np.array(XunionYmat)\n",
        "  #print(XuY)\n",
        "  #print(XuYmat)\n",
        "  #print(len(XuY))\n",
        "  num = np.mean(swAB(Xmat,Amat,Bmat)) - np.mean(swAB(Ymat,Amat,Bmat))\n",
        "  den = np.std(swAB(XunionYmat, Amat, Bmat),ddof=1) # using ddof=1 to get an unbiased estimate\n",
        "  return num/den"
      ],
      "execution_count": null,
      "outputs": []
    },
    {
      "cell_type": "code",
      "metadata": {
        "colab": {
          "base_uri": "https://localhost:8080/"
        },
        "id": "RWMPq8fY1-ma",
        "outputId": "87b7983a-3d87-49b2-a7e6-1e59cd77f6e8"
      },
      "source": [
        "weat_effect_size(X,Y,A,B)"
      ],
      "execution_count": null,
      "outputs": [
        {
          "output_type": "execute_result",
          "data": {
            "text/plain": [
              "1.1705697"
            ]
          },
          "metadata": {
            "tags": []
          },
          "execution_count": 13
        }
      ]
    },
    {
      "cell_type": "code",
      "metadata": {
        "colab": {
          "base_uri": "https://localhost:8080/"
        },
        "id": "ky34g0b4QcpW",
        "outputId": "b0cc2411-0397-430b-c1d3-6e671684ef27"
      },
      "source": [
        "weat_effect_size(X,Y,A,B)"
      ],
      "execution_count": null,
      "outputs": [
        {
          "output_type": "execute_result",
          "data": {
            "text/plain": [
              "1.1705697"
            ]
          },
          "metadata": {
            "tags": []
          },
          "execution_count": 14
        }
      ]
    },
    {
      "cell_type": "code",
      "metadata": {
        "id": "mPTh48hBQrdl"
      },
      "source": [
        ""
      ],
      "execution_count": null,
      "outputs": []
    },
    {
      "cell_type": "markdown",
      "metadata": {
        "id": "D-SnB4WKK5DW"
      },
      "source": [
        "###Getting a random permutation\n",
        "\n",
        "###Ref: https://docs.python.org/3/library/itertools.html"
      ]
    },
    {
      "cell_type": "code",
      "metadata": {
        "id": "x8qAae5mJZn7"
      },
      "source": [
        "def random_permutation(iterable, r=None):\n",
        "    \"Random selection from itertools.permutations(iterable, r)\"\n",
        "    pool = tuple(iterable)\n",
        "    r = len(pool) if r is None else r\n",
        "    return tuple(random.sample(pool, r))"
      ],
      "execution_count": null,
      "outputs": []
    },
    {
      "cell_type": "markdown",
      "metadata": {
        "id": "P814G-vUJMLP"
      },
      "source": [
        "#Implementation explanation:\n",
        "\n",
        "## Using the fact that WEAT effective sizes in the empirical distribution of the null hypothesis are normally distributed."
      ]
    },
    {
      "cell_type": "code",
      "metadata": {
        "id": "MhnyxMVAIt75"
      },
      "source": [
        ""
      ],
      "execution_count": null,
      "outputs": []
    },
    {
      "cell_type": "code",
      "metadata": {
        "id": "eWdCveLTccKR"
      },
      "source": [
        "def weat_emp_p_value(X, Y, A, B,nsamples):\n",
        "  #doing it again for small X,Y,A,B\n",
        "\n",
        "  actualstat = sXYAB(Xmat, Ymat, Amat, Bmat)\n",
        "\n",
        "  length=len(X)                                     # Since X and Y are of same size \n",
        "  assert(len(X)==len(Y))\n",
        "  X_Y = np.array(X + Y)\n",
        "  allpartitionsstat = []\n",
        "\n",
        "  print(\"checkpoint 0\")\n",
        "  permutations = [random_permutation(X_Y, 2*length) for sample in range(nsamples)]\n",
        "  count=0\n",
        "  print(\"checkpoint 1\")\n",
        "  for mat in permutations:\n",
        "    count+=1\n",
        "    if(count%10000==0):\n",
        "      print(count)\n",
        "    Xi=mat[:length]\n",
        "    Yi=mat[length:]\n",
        "    Ximat = np.array([glove[w] for w in Xi])\n",
        "    Yimat = np.array([glove[w] for w in Yi])\n",
        "    allpartitionsstat.append(sXYAB(Ximat, Yimat, Amat, Bmat))\n",
        "  \n",
        "\n",
        "  count_above=0\n",
        "  for particularpartitionstat in allpartitionsstat:\n",
        "    if particularpartitionstat > actualstat:\n",
        "      count_above+=1\n",
        "  \n",
        "  print(count_above)\n",
        "  print(len(allpartitionsstat))\n",
        "\n",
        "  print(\"checkpoint 3\")\n",
        "  return(count_above/len(allpartitionsstat))"
      ],
      "execution_count": null,
      "outputs": []
    },
    {
      "cell_type": "code",
      "metadata": {
        "colab": {
          "base_uri": "https://localhost:8080/"
        },
        "id": "RoEnLcW79ioY",
        "outputId": "fb14d311-2d55-4392-c11f-4908d9e12fb4"
      },
      "source": [
        "weat_emp_p_value(X,Y,A,B,1000000)"
      ],
      "execution_count": null,
      "outputs": [
        {
          "output_type": "stream",
          "text": [
            "checkpoint 0\n",
            "checkpoint 1\n",
            "10000\n",
            "20000\n",
            "30000\n",
            "40000\n",
            "50000\n",
            "60000\n",
            "70000\n",
            "80000\n",
            "90000\n",
            "100000\n",
            "110000\n",
            "120000\n",
            "130000\n",
            "140000\n",
            "150000\n",
            "160000\n",
            "170000\n",
            "180000\n",
            "190000\n",
            "200000\n",
            "210000\n",
            "220000\n",
            "230000\n",
            "240000\n",
            "250000\n",
            "260000\n",
            "270000\n",
            "280000\n",
            "290000\n",
            "300000\n",
            "310000\n",
            "320000\n",
            "330000\n",
            "340000\n",
            "350000\n",
            "360000\n",
            "370000\n",
            "380000\n",
            "390000\n",
            "400000\n",
            "410000\n",
            "420000\n",
            "430000\n",
            "440000\n",
            "450000\n",
            "460000\n",
            "470000\n",
            "480000\n",
            "490000\n",
            "500000\n",
            "510000\n",
            "520000\n",
            "530000\n",
            "540000\n",
            "550000\n",
            "560000\n",
            "570000\n",
            "580000\n",
            "590000\n",
            "600000\n",
            "610000\n",
            "620000\n",
            "630000\n",
            "640000\n",
            "650000\n",
            "660000\n",
            "670000\n",
            "680000\n",
            "690000\n",
            "700000\n",
            "710000\n",
            "720000\n",
            "730000\n",
            "740000\n",
            "750000\n",
            "760000\n",
            "770000\n",
            "780000\n",
            "790000\n",
            "800000\n",
            "810000\n",
            "820000\n",
            "830000\n",
            "840000\n",
            "850000\n",
            "860000\n",
            "870000\n",
            "880000\n",
            "890000\n",
            "900000\n",
            "910000\n",
            "920000\n",
            "930000\n",
            "940000\n",
            "950000\n",
            "960000\n",
            "970000\n",
            "980000\n",
            "990000\n",
            "1000000\n",
            "167018\n",
            "1000000\n",
            "checkpoint 3\n"
          ],
          "name": "stdout"
        },
        {
          "output_type": "execute_result",
          "data": {
            "text/plain": [
              "0.167018"
            ]
          },
          "metadata": {
            "tags": []
          },
          "execution_count": 17
        }
      ]
    },
    {
      "cell_type": "code",
      "metadata": {
        "id": "eSbh4BmCd5e7"
      },
      "source": [
        "def weat_p_value(X, Y, A, B,nsamples):\n",
        "  #doing it again for small X,Y,A,B\n",
        "\n",
        "  actualstat = sXYAB(Xmat, Ymat, Amat, Bmat)\n",
        "\n",
        "  length=len(X)                                     # Since X and Y are of same size \n",
        "  assert(len(X)==len(Y))\n",
        "  X_Y = np.array(X + Y)\n",
        "  allpartitionsstat = []\n",
        "\n",
        "  print(\"checkpoint 0\")\n",
        "  permutations = [random_permutation(X_Y, 2*length) for sample in range(nsamples)]\n",
        "  count=0\n",
        "  print(\"checkpoint 1\")\n",
        "  for mat in permutations:\n",
        "    Xi=mat[:length]\n",
        "    Yi=mat[length:]\n",
        "    Ximat = np.array([glove[w] for w in Xi])\n",
        "    Yimat = np.array([glove[w] for w in Yi])\n",
        "    allpartitionsstat.append(sXYAB(Ximat, Yimat, Amat, Bmat))\n",
        "  \n",
        "  sample_mean = np.mean(allpartitionsstat)\n",
        "  sample_std = np.std(allpartitionsstat,ddof=1) #using ddof=1 for an unbiased estimate\n",
        "  p_val = scipy.stats.norm.sf(actualstat, loc=sample_mean, scale=sample_std)\n",
        "  print(\"checkpoint 3\")\n",
        "  return(p_val)"
      ],
      "execution_count": null,
      "outputs": []
    },
    {
      "cell_type": "code",
      "metadata": {
        "colab": {
          "base_uri": "https://localhost:8080/"
        },
        "id": "99gBM3WS2B-8",
        "outputId": "64d099c7-3b11-4602-f181-abe12f902716"
      },
      "source": [
        "weat_p_value(X,Y,A,B,1000)"
      ],
      "execution_count": null,
      "outputs": [
        {
          "output_type": "stream",
          "text": [
            "checkpoint 0\n",
            "checkpoint 1\n",
            "checkpoint 3\n"
          ],
          "name": "stdout"
        },
        {
          "output_type": "execute_result",
          "data": {
            "text/plain": [
              "0.11773848422977029"
            ]
          },
          "metadata": {
            "tags": []
          },
          "execution_count": 19
        }
      ]
    },
    {
      "cell_type": "code",
      "metadata": {
        "id": "PXoAD7izF2t-"
      },
      "source": [
        ""
      ],
      "execution_count": null,
      "outputs": []
    },
    {
      "cell_type": "markdown",
      "metadata": {
        "id": "79tBu2o9F6Tv"
      },
      "source": [
        "# WEFAT\n"
      ]
    },
    {
      "cell_type": "code",
      "metadata": {
        "id": "rikvKhF62PMs"
      },
      "source": [
        "FW=[\"Parth\"]"
      ],
      "execution_count": null,
      "outputs": []
    },
    {
      "cell_type": "code",
      "metadata": {
        "id": "mscIMe7GgCBl"
      },
      "source": [
        ""
      ],
      "execution_count": null,
      "outputs": []
    },
    {
      "cell_type": "markdown",
      "metadata": {
        "id": "XFz_EWLjx7HT"
      },
      "source": [
        ""
      ]
    },
    {
      "cell_type": "code",
      "metadata": {
        "id": "Osb_705pPslE"
      },
      "source": [
        ""
      ],
      "execution_count": null,
      "outputs": []
    },
    {
      "cell_type": "code",
      "metadata": {
        "id": "jdtLWxBy2VNR"
      },
      "source": [
        "FA=[\"caress\", \"freedom\", \"health\", \"love\", \"peace\", \"cheer\", \"friend\", \"heaven\", \"loyal\", \"pleasure\", \"diamond\", \"gentle\", \"honest\", \"lucky\", \"rainbow\", \"diploma\", \"gift\", \"honor\", \"miracle\", \"sunrise\", \"family\", \"happy\", \"laughter\", \"paradise\", \"vacation\"]\n",
        "FB=[\"abuse\", \"crash\", \"filth\", \"murder\", \"sickness\", \"accident\", \"death\", \"grief\", \"poison\", \"stink\", \"assault\", \"disaster\", \"hatred\", \"pollute\", \"tragedy\", \"divorce\", \"jail\", \"poverty\", \"ugly\", \"cancer\", \"kill\", \"rotten\", \"vomit\", \"agony\", \"prison\"]\n",
        "\n"
      ],
      "execution_count": null,
      "outputs": []
    },
    {
      "cell_type": "code",
      "metadata": {
        "colab": {
          "base_uri": "https://localhost:8080/"
        },
        "id": "2VKeiAuMisrK",
        "outputId": "4a544cb0-df2d-4269-cd79-e030c1645f99"
      },
      "source": [
        "print(len(FB))\n",
        "print(len(FA))"
      ],
      "execution_count": null,
      "outputs": [
        {
          "output_type": "stream",
          "text": [
            "25\n",
            "25\n"
          ],
          "name": "stdout"
        }
      ]
    },
    {
      "cell_type": "code",
      "metadata": {
        "colab": {
          "base_uri": "https://localhost:8080/"
        },
        "id": "ZV1GO6GVIVjS",
        "outputId": "26595618-b460-4b5a-f78c-b187fc427a81"
      },
      "source": [
        "FWmat=get_glove_emb(FW)\n",
        "FAmat=get_glove_emb(FA)\n",
        "FBmat=get_glove_emb(FB)\n",
        "print(FWmat.shape)\n",
        "print(FAmat.shape)\n",
        "print(FBmat.shape)"
      ],
      "execution_count": null,
      "outputs": [
        {
          "output_type": "stream",
          "text": [
            "(1, 300)\n",
            "(25, 300)\n",
            "(25, 300)\n"
          ],
          "name": "stdout"
        }
      ]
    },
    {
      "cell_type": "code",
      "metadata": {
        "id": "y4_y53hfNc5k"
      },
      "source": [
        "def swAB(w,A,B):\n",
        "  countA=0\n",
        "  countB=0\n",
        "  for a in A:\n",
        "    countA+=(cosine_similarity(w.reshape(1,-1),a.reshape(1,-1)))\n",
        "  for b in B:\n",
        "    countB+=(cosine_similarity(w.reshape(1,-1),b.reshape(1,-1)))\n",
        "  meana=(countA/A.shape[0])\n",
        "  meanb=(countB/B.shape[0])\n",
        "  return (meana-meanb).item()\n",
        "\n",
        "def wefat_effect_size(w, A, B):\n",
        "  AunionB = list(set(A).union(B))\n",
        "  AunionBmat = []\n",
        "  for var in AunionB:\n",
        "    AunionBmat.append(glove[var])\n",
        "  AunionBmat = np.array(AunionBmat)\n",
        "  num = swAB(w,FAmat,FBmat)\n",
        "  finaloutput=[]\n",
        "  for variable in AunionBmat:\n",
        "    finaloutput.append((cosine_similarity(w.reshape(1,-1),variable.reshape(1,-1))).item())\n",
        "  den = np.std(finaloutput,ddof=1) #using ddof=1 for an unbiased estimate\n",
        "  #print(num)\n",
        "  #print(den)\n",
        "  return num/den"
      ],
      "execution_count": null,
      "outputs": []
    },
    {
      "cell_type": "code",
      "metadata": {
        "colab": {
          "base_uri": "https://localhost:8080/"
        },
        "id": "7TqpHbEnSD1W",
        "outputId": "2a40dca0-2b54-4687-8225-89254735d764"
      },
      "source": [
        "swAB(FWmat,FAmat,FBmat)"
      ],
      "execution_count": null,
      "outputs": [
        {
          "output_type": "execute_result",
          "data": {
            "text/plain": [
              "-0.0017014965415000916"
            ]
          },
          "metadata": {
            "tags": []
          },
          "execution_count": 25
        }
      ]
    },
    {
      "cell_type": "code",
      "metadata": {
        "colab": {
          "base_uri": "https://localhost:8080/"
        },
        "id": "_nvWuvKEcyb-",
        "outputId": "91491c56-abee-4eec-8ff2-1a98b6ff207f"
      },
      "source": [
        "wefat_effect_size(FWmat,FA,FB)\n"
      ],
      "execution_count": null,
      "outputs": [
        {
          "output_type": "execute_result",
          "data": {
            "text/plain": [
              "-0.03590634359010653"
            ]
          },
          "metadata": {
            "tags": []
          },
          "execution_count": 26
        }
      ]
    },
    {
      "cell_type": "code",
      "metadata": {
        "id": "IWLJIUBUSfQP"
      },
      "source": [
        "def wefat_p_value(w, A, B,nsamples):\n",
        "  #doing it again for small X,Y,A,B\n",
        "\n",
        "  actualstat = swAB(w,FAmat,FBmat)\n",
        "\n",
        "  length=len(A)                                     # Since X and Y are of same size \n",
        "  assert(len(B)==len(B))\n",
        "  A_B = np.array(A + B)\n",
        "  allpartitionsstat = []\n",
        "  permutations = [random_permutation(A_B, 2*length) for sample in range(nsamples)]\n",
        "  print(\"checkpoint 1\")\n",
        "  count_ab=0\n",
        "  for mat in permutations:\n",
        "    Ai=mat[:length]\n",
        "    Bi=mat[length:]\n",
        "    Aimat = np.array([glove[w] for w in Ai])\n",
        "    Bimat = np.array([glove[w] for w in Bi])\n",
        "    allpartitionsstat.append(swAB(w,Aimat,Bimat))\n",
        "  \n",
        "\n",
        "  print(\"checkpoint 2\")\n",
        "  sample_mean = np.mean(allpartitionsstat)\n",
        "  sample_std = np.std(allpartitionsstat,ddof=1)\n",
        "  p_val = scipy.stats.norm.sf(actualstat, loc=sample_mean, scale=sample_std)\n",
        "\n",
        "  print(\"checkpoint 3\")\n",
        "  return p_val\n",
        "\n",
        "\n",
        "def wefat_emp_p_value(w, A, B,nsamples):\n",
        "  #doing it again for small X,Y,A,B\n",
        "\n",
        "  actualstat = swAB(w,FAmat,FBmat)\n",
        "\n",
        "  length=len(A)                                     # Since X and Y are of same size \n",
        "  assert(len(B)==len(B))\n",
        "  A_B = np.array(A + B)\n",
        "  allpartitionsstat = []\n",
        "  permutations = [random_permutation(A_B, 2*length) for sample in range(nsamples)]\n",
        "  print(\"checkpoint 1\")\n",
        "  count_ab=0\n",
        "  count=0\n",
        "  for mat in permutations:\n",
        "    count+=1\n",
        "    if(count%10000==0):\n",
        "      print(count)\n",
        "    Ai=mat[:length]\n",
        "    Bi=mat[length:]\n",
        "    Aimat = np.array([glove[w] for w in Ai])\n",
        "    Bimat = np.array([glove[w] for w in Bi])\n",
        "    allpartitionsstat.append(swAB(w,Aimat,Bimat))\n",
        "  \n",
        "\n",
        "  count_above=0\n",
        "  for particularpartitionstat in allpartitionsstat:\n",
        "    if particularpartitionstat > actualstat:\n",
        "      count_above+=1\n",
        "  \n",
        "  print(count_above)\n",
        "  print(len(allpartitionsstat))\n",
        "\n",
        "  print(\"checkpoint 3\")\n",
        "  return(count_above/len(allpartitionsstat))"
      ],
      "execution_count": null,
      "outputs": []
    },
    {
      "cell_type": "code",
      "metadata": {
        "colab": {
          "base_uri": "https://localhost:8080/"
        },
        "id": "Wno-npb_RGH-",
        "outputId": "bc701fb1-6923-4870-d178-25e31a83c83f"
      },
      "source": [
        "wefat_p_value(FWmat,FA,FB,1000)"
      ],
      "execution_count": null,
      "outputs": [
        {
          "output_type": "stream",
          "text": [
            "checkpoint 1\n",
            "checkpoint 2\n",
            "checkpoint 3\n"
          ],
          "name": "stdout"
        },
        {
          "output_type": "execute_result",
          "data": {
            "text/plain": [
              "0.5486750101066402"
            ]
          },
          "metadata": {
            "tags": []
          },
          "execution_count": 28
        }
      ]
    },
    {
      "cell_type": "code",
      "metadata": {
        "colab": {
          "base_uri": "https://localhost:8080/"
        },
        "id": "2q2RJSfCIoAs",
        "outputId": "8e623907-d3bb-4c35-e607-7f4c59e362cd"
      },
      "source": [
        "wefat_emp_p_value(FWmat,FA,FB,1000000)"
      ],
      "execution_count": null,
      "outputs": [
        {
          "output_type": "stream",
          "text": [
            "checkpoint 1\n",
            "10000\n",
            "20000\n",
            "30000\n",
            "40000\n",
            "50000\n",
            "60000\n",
            "70000\n",
            "80000\n",
            "90000\n",
            "100000\n",
            "110000\n",
            "120000\n",
            "130000\n",
            "140000\n",
            "150000\n",
            "160000\n",
            "170000\n",
            "180000\n",
            "190000\n",
            "200000\n",
            "210000\n",
            "220000\n",
            "230000\n",
            "240000\n",
            "250000\n",
            "260000\n",
            "270000\n",
            "280000\n",
            "290000\n",
            "300000\n",
            "310000\n",
            "320000\n",
            "330000\n",
            "340000\n",
            "350000\n",
            "360000\n",
            "370000\n",
            "380000\n",
            "390000\n",
            "400000\n",
            "410000\n",
            "420000\n",
            "430000\n",
            "440000\n",
            "450000\n",
            "460000\n",
            "470000\n",
            "480000\n",
            "490000\n",
            "500000\n",
            "510000\n",
            "520000\n",
            "530000\n",
            "540000\n",
            "550000\n",
            "560000\n",
            "570000\n",
            "580000\n",
            "590000\n",
            "600000\n",
            "610000\n",
            "620000\n",
            "630000\n",
            "640000\n",
            "650000\n",
            "660000\n",
            "670000\n",
            "680000\n",
            "690000\n",
            "700000\n",
            "710000\n",
            "720000\n",
            "730000\n",
            "740000\n",
            "750000\n",
            "760000\n",
            "770000\n",
            "780000\n",
            "790000\n",
            "800000\n",
            "810000\n",
            "820000\n",
            "830000\n",
            "840000\n",
            "850000\n",
            "860000\n",
            "870000\n",
            "880000\n",
            "890000\n",
            "900000\n",
            "910000\n",
            "920000\n",
            "930000\n",
            "940000\n",
            "950000\n",
            "960000\n",
            "970000\n",
            "980000\n",
            "990000\n",
            "1000000\n",
            "548877\n",
            "1000000\n",
            "checkpoint 3\n"
          ],
          "name": "stdout"
        },
        {
          "output_type": "execute_result",
          "data": {
            "text/plain": [
              "0.548877"
            ]
          },
          "metadata": {
            "tags": []
          },
          "execution_count": 29
        }
      ]
    },
    {
      "cell_type": "code",
      "metadata": {
        "colab": {
          "base_uri": "https://localhost:8080/"
        },
        "id": "mx3DMeOTKr_h",
        "outputId": "3b22b797-5979-4940-b1c7-5c14754c362c"
      },
      "source": [
        "FW=[\"weat\"]\n",
        "FWmat=get_glove_emb(FW)\n",
        "print(FWmat.shape)\n",
        "wefat_effect_size(FWmat,FA,FB)\n"
      ],
      "execution_count": null,
      "outputs": [
        {
          "output_type": "stream",
          "text": [
            "(1, 300)\n"
          ],
          "name": "stdout"
        },
        {
          "output_type": "execute_result",
          "data": {
            "text/plain": [
              "-0.1544695499596644"
            ]
          },
          "metadata": {
            "tags": []
          },
          "execution_count": 30
        }
      ]
    },
    {
      "cell_type": "code",
      "metadata": {
        "colab": {
          "base_uri": "https://localhost:8080/"
        },
        "id": "RA0yPRM_Kukl",
        "outputId": "abb7954a-363f-4c1b-ba10-84d3b8d90d66"
      },
      "source": [
        "wefat_p_value(FWmat,FA,FB,1000)"
      ],
      "execution_count": null,
      "outputs": [
        {
          "output_type": "stream",
          "text": [
            "checkpoint 1\n",
            "checkpoint 2\n",
            "checkpoint 3\n"
          ],
          "name": "stdout"
        },
        {
          "output_type": "execute_result",
          "data": {
            "text/plain": [
              "0.697999303204561"
            ]
          },
          "metadata": {
            "tags": []
          },
          "execution_count": 31
        }
      ]
    },
    {
      "cell_type": "code",
      "metadata": {
        "colab": {
          "base_uri": "https://localhost:8080/"
        },
        "id": "4DA-QH_UN4JF",
        "outputId": "3b9ea176-08a5-4118-dcb2-287064abbd25"
      },
      "source": [
        "wefat_emp_p_value(FWmat,FA,FB,1000000)"
      ],
      "execution_count": null,
      "outputs": [
        {
          "output_type": "stream",
          "text": [
            "checkpoint 1\n",
            "10000\n",
            "20000\n",
            "30000\n",
            "40000\n",
            "50000\n",
            "60000\n",
            "70000\n",
            "80000\n",
            "90000\n",
            "100000\n",
            "110000\n",
            "120000\n",
            "130000\n",
            "140000\n",
            "150000\n",
            "160000\n",
            "170000\n",
            "180000\n",
            "190000\n",
            "200000\n",
            "210000\n",
            "220000\n",
            "230000\n",
            "240000\n",
            "250000\n",
            "260000\n",
            "270000\n",
            "280000\n",
            "290000\n",
            "300000\n",
            "310000\n",
            "320000\n",
            "330000\n",
            "340000\n",
            "350000\n",
            "360000\n",
            "370000\n",
            "380000\n",
            "390000\n",
            "400000\n",
            "410000\n",
            "420000\n",
            "430000\n",
            "440000\n",
            "450000\n",
            "460000\n",
            "470000\n",
            "480000\n",
            "490000\n",
            "500000\n",
            "510000\n",
            "520000\n",
            "530000\n",
            "540000\n",
            "550000\n",
            "560000\n",
            "570000\n",
            "580000\n",
            "590000\n",
            "600000\n",
            "610000\n",
            "620000\n",
            "630000\n",
            "640000\n",
            "650000\n",
            "660000\n",
            "670000\n",
            "680000\n",
            "690000\n",
            "700000\n",
            "710000\n",
            "720000\n",
            "730000\n",
            "740000\n",
            "750000\n",
            "760000\n",
            "770000\n",
            "780000\n",
            "790000\n",
            "800000\n",
            "810000\n",
            "820000\n",
            "830000\n",
            "840000\n",
            "850000\n",
            "860000\n",
            "870000\n",
            "880000\n",
            "890000\n",
            "900000\n",
            "910000\n",
            "920000\n",
            "930000\n",
            "940000\n",
            "950000\n",
            "960000\n",
            "970000\n",
            "980000\n",
            "990000\n",
            "1000000\n",
            "704144\n",
            "1000000\n",
            "checkpoint 3\n"
          ],
          "name": "stdout"
        },
        {
          "output_type": "execute_result",
          "data": {
            "text/plain": [
              "0.704144"
            ]
          },
          "metadata": {
            "tags": []
          },
          "execution_count": 33
        }
      ]
    },
    {
      "cell_type": "code",
      "metadata": {
        "id": "V8fyNslOjXlC"
      },
      "source": [
        "FW=\"AylinCaliskan\"\n"
      ],
      "execution_count": null,
      "outputs": []
    },
    {
      "cell_type": "code",
      "metadata": {
        "id": "WlLKfcfqtLAk"
      },
      "source": [
        "def get_glove_vec(FW):\n",
        "  mylist=re.findall('[A-Z][^A-Z]*', FW)\n",
        "  print(mylist)\n",
        "  X=np.zeros(300)\n",
        "  for i in range(len(mylist)):\n",
        "    X+=np.array(glove[mylist[i]])\n",
        "  return (X/len(mylist)).reshape(1,-1)"
      ],
      "execution_count": null,
      "outputs": []
    },
    {
      "cell_type": "code",
      "metadata": {
        "colab": {
          "base_uri": "https://localhost:8080/"
        },
        "id": "93k6PXestwUj",
        "outputId": "48292498-0c53-454f-f3bc-311a118061a9"
      },
      "source": [
        "FWmat=get_glove_vec(FW)\n",
        "print(FWmat.shape)"
      ],
      "execution_count": null,
      "outputs": [
        {
          "output_type": "stream",
          "text": [
            "['Aylin', 'Caliskan']\n",
            "(1, 300)\n"
          ],
          "name": "stdout"
        }
      ]
    },
    {
      "cell_type": "code",
      "metadata": {
        "colab": {
          "base_uri": "https://localhost:8080/"
        },
        "id": "9UKbunLqoh4A",
        "outputId": "17e56b55-fb13-4247-f1b8-6647b1b2c829"
      },
      "source": [
        "wefat_effect_size(FWmat,FA,FB)"
      ],
      "execution_count": null,
      "outputs": [
        {
          "output_type": "execute_result",
          "data": {
            "text/plain": [
              "-0.32843477256190995"
            ]
          },
          "metadata": {
            "tags": []
          },
          "execution_count": 37
        }
      ]
    },
    {
      "cell_type": "code",
      "metadata": {
        "colab": {
          "base_uri": "https://localhost:8080/"
        },
        "id": "0oSH_4_inwsW",
        "outputId": "d99b8464-282f-432f-cbb3-7d084eff1578"
      },
      "source": [
        "wefat_p_value(FWmat,FA,FB,1000)"
      ],
      "execution_count": null,
      "outputs": [
        {
          "output_type": "stream",
          "text": [
            "checkpoint 1\n",
            "checkpoint 2\n",
            "checkpoint 3\n"
          ],
          "name": "stdout"
        },
        {
          "output_type": "execute_result",
          "data": {
            "text/plain": [
              "0.8734237447363902"
            ]
          },
          "metadata": {
            "tags": []
          },
          "execution_count": 38
        }
      ]
    },
    {
      "cell_type": "code",
      "metadata": {
        "colab": {
          "background_save": true,
          "base_uri": "https://localhost:8080/"
        },
        "id": "hU96nnZdnxFL",
        "outputId": "efd441a7-1e0a-4415-ae67-2a77befbc087"
      },
      "source": [
        "wefat_emp_p_value(FWmat,FA,FB,1000000)"
      ],
      "execution_count": null,
      "outputs": [
        {
          "output_type": "stream",
          "text": [
            "checkpoint 1\n",
            "10000\n",
            "20000\n",
            "30000\n",
            "40000\n",
            "50000\n",
            "60000\n",
            "70000\n",
            "80000\n",
            "90000\n",
            "100000\n",
            "110000\n",
            "120000\n",
            "130000\n",
            "140000\n",
            "150000\n",
            "160000\n",
            "170000\n",
            "180000\n",
            "190000\n",
            "200000\n",
            "210000\n",
            "220000\n",
            "230000\n",
            "240000\n",
            "250000\n",
            "260000\n",
            "270000\n",
            "280000\n",
            "290000\n",
            "300000\n",
            "310000\n",
            "320000\n",
            "330000\n",
            "340000\n",
            "350000\n",
            "360000\n",
            "370000\n",
            "380000\n",
            "390000\n",
            "400000\n",
            "410000\n",
            "420000\n",
            "430000\n",
            "440000\n",
            "450000\n",
            "460000\n",
            "470000\n",
            "480000\n",
            "490000\n",
            "500000\n",
            "510000\n",
            "520000\n",
            "530000\n",
            "540000\n",
            "550000\n",
            "560000\n",
            "570000\n",
            "580000\n",
            "590000\n",
            "600000\n",
            "610000\n",
            "620000\n",
            "630000\n",
            "640000\n",
            "650000\n",
            "660000\n",
            "670000\n",
            "680000\n",
            "690000\n",
            "700000\n",
            "710000\n",
            "720000\n",
            "730000\n",
            "740000\n",
            "750000\n",
            "760000\n",
            "770000\n",
            "780000\n",
            "790000\n",
            "800000\n",
            "810000\n",
            "820000\n",
            "830000\n",
            "840000\n",
            "850000\n",
            "860000\n",
            "870000\n",
            "880000\n",
            "890000\n",
            "900000\n",
            "910000\n",
            "920000\n",
            "930000\n",
            "940000\n",
            "950000\n",
            "960000\n",
            "970000\n",
            "980000\n",
            "990000\n",
            "1000000\n",
            "874219\n",
            "1000000\n",
            "checkpoint 3\n"
          ],
          "name": "stdout"
        },
        {
          "output_type": "execute_result",
          "data": {
            "text/plain": [
              "0.874219"
            ]
          },
          "metadata": {
            "tags": []
          },
          "execution_count": 0
        }
      ]
    },
    {
      "cell_type": "code",
      "metadata": {
        "id": "edEihUZwnYh0"
      },
      "source": [
        ""
      ],
      "execution_count": null,
      "outputs": []
    }
  ]
}